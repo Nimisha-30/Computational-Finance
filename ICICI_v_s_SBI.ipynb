{
  "nbformat": 4,
  "nbformat_minor": 0,
  "metadata": {
    "colab": {
      "provenance": []
    },
    "kernelspec": {
      "name": "python3",
      "display_name": "Python 3"
    },
    "language_info": {
      "name": "python"
    }
  },
  "cells": [
    {
      "cell_type": "code",
      "source": [
        "import numpy as np"
      ],
      "metadata": {
        "id": "LmYCkyiYewv6"
      },
      "execution_count": null,
      "outputs": []
    },
    {
      "cell_type": "code",
      "execution_count": null,
      "metadata": {
        "id": "x5sFSxRYdv40"
      },
      "outputs": [],
      "source": [
        "icici_open=[355, 261, 255, 312, 362, 539, 534, 743, 892]\n",
        "icici_close=[242, 255, 341, 360, 538, 534, 740, 890, 996]\n",
        "sbi_open=[312, 225, 252, 310, 297, 334, 275, 461, 615]\n",
        "sbi_close=[228, 249, 309, 295, 333, 274, 460, 613, 641]"
      ]
    },
    {
      "cell_type": "code",
      "source": [
        "def calculate_rr(open, close):\n",
        "    rr=[]\n",
        "    for i in range(len(open)):\n",
        "        r=(close[i]-open[i])/open[i]\n",
        "        rr.append(r)\n",
        "    return rr"
      ],
      "metadata": {
        "id": "PNSMur-lkvxW"
      },
      "execution_count": null,
      "outputs": []
    },
    {
      "cell_type": "code",
      "source": [
        "def calculate_er(rr):\n",
        "    return np.mean(rr)"
      ],
      "metadata": {
        "id": "Ln5mL5Udecxk"
      },
      "execution_count": null,
      "outputs": []
    },
    {
      "cell_type": "code",
      "source": [
        "def calculate_var(rr, mean):\n",
        "    var=[]\n",
        "    for i in range(len(rr)):\n",
        "        v=(rr[i]-mean)**2\n",
        "        var.append(v)\n",
        "    return np.mean(var)"
      ],
      "metadata": {
        "id": "LzPS-I2Ei6Zz"
      },
      "execution_count": null,
      "outputs": []
    },
    {
      "cell_type": "code",
      "source": [
        "icici_rr=calculate_rr(icici_open, icici_close)\n",
        "sbi_rr=calculate_rr(sbi_open, sbi_close)\n",
        "icici_er=calculate_er(icici_rr)\n",
        "sbi_er=calculate_er(sbi_rr)\n",
        "icici_var=calculate_var(icici_rr, icici_er)\n",
        "sbi_var=calculate_var(sbi_rr, sbi_er)"
      ],
      "metadata": {
        "id": "2KqszBdNe1Xg"
      },
      "execution_count": null,
      "outputs": []
    },
    {
      "cell_type": "code",
      "source": [
        "print(icici_rr)\n",
        "print(sbi_rr)\n",
        "print(icici_er)\n",
        "print(sbi_er)\n",
        "print(icici_var)\n",
        "print(sbi_var)"
      ],
      "metadata": {
        "colab": {
          "base_uri": "https://localhost:8080/"
        },
        "id": "4mkUZW0TlybT",
        "outputId": "0cb1ba4c-d1d5-4f16-877a-dce9c8b9ebd4"
      },
      "execution_count": null,
      "outputs": [
        {
          "output_type": "stream",
          "name": "stdout",
          "text": [
            "[-0.3183098591549296, -0.022988505747126436, 0.33725490196078434, 0.15384615384615385, 0.4861878453038674, -0.00927643784786642, 0.3857677902621723, 0.19784656796769853, 0.11659192825112108]\n",
            "[-0.2692307692307692, 0.10666666666666667, 0.2261904761904762, -0.04838709677419355, 0.12121212121212122, -0.17964071856287425, 0.6727272727272727, 0.3297180043383948, 0.04227642276422764]\n",
            "0.14743559831576392\n",
            "0.11128137548125802\n",
            "0.05351580537100417\n",
            "0.07066010384923421\n"
          ]
        }
      ]
    },
    {
      "cell_type": "code",
      "source": [
        "# notes\n",
        "# std dev = var**0.5 => sigmav=sigma2v**0.5\n",
        "print(icici_var**(1/2))\n",
        "print(sbi_var**(1/2))"
      ],
      "metadata": {
        "colab": {
          "base_uri": "https://localhost:8080/"
        },
        "id": "hbnAF3scuRIm",
        "outputId": "08411c82-370f-411d-ee48-b426bcd30852"
      },
      "execution_count": null,
      "outputs": [
        {
          "output_type": "stream",
          "name": "stdout",
          "text": [
            "0.23133483389019513\n",
            "0.2658196829605253\n"
          ]
        }
      ]
    },
    {
      "cell_type": "code",
      "source": [
        "cc=np.corrcoef(icici_rr, sbi_rr)\n",
        "print(cc)\n",
        "print(cc[0][1])"
      ],
      "metadata": {
        "colab": {
          "base_uri": "https://localhost:8080/"
        },
        "id": "PnwfTd6-oNRp",
        "outputId": "318e37bb-6a12-4cac-f9ee-6fcd7d9ee964"
      },
      "execution_count": null,
      "outputs": [
        {
          "output_type": "stream",
          "name": "stdout",
          "text": [
            "[[1.         0.71317974]\n",
            " [0.71317974 1.        ]]\n",
            "0.7131797431536051\n"
          ]
        }
      ]
    },
    {
      "cell_type": "code",
      "source": [
        "def corr_coef(col1, col2, er1, er2):\n",
        "    cc=[]\n",
        "    col12=[]\n",
        "    col22=[]\n",
        "    n=len(col1)\n",
        "    for i in range(n):\n",
        "        cc.append((col1[i]-er1)*(col2[i]-er2))\n",
        "        col12.append((col1[i]-er1)**2)\n",
        "        col22.append((col2[i]-er2)**2)\n",
        "    num=sum(cc)\n",
        "    den=((sum(col12)*sum(col22))**0.5)\n",
        "    return (num/den)"
      ],
      "metadata": {
        "id": "Zcr0hKj1B9Nb"
      },
      "execution_count": null,
      "outputs": []
    },
    {
      "cell_type": "code",
      "source": [
        "print(corr_coef(icici_rr, sbi_rr, icici_er, sbi_er))"
      ],
      "metadata": {
        "colab": {
          "base_uri": "https://localhost:8080/"
        },
        "id": "xOIpnBfHFFGX",
        "outputId": "53b7fb22-3686-4f85-fd7c-82b9979d621a"
      },
      "execution_count": null,
      "outputs": [
        {
          "output_type": "stream",
          "name": "stdout",
          "text": [
            "0.7131797431536052\n"
          ]
        }
      ]
    },
    {
      "cell_type": "markdown",
      "source": [
        "w=0.5"
      ],
      "metadata": {
        "id": "RjhYNRyF0GiZ"
      }
    },
    {
      "cell_type": "code",
      "source": [
        "def muv(w, mu1, mu2):\n",
        "    muv=w*mu1+(1-w)*mu2\n",
        "    return muv"
      ],
      "metadata": {
        "id": "BgI3S4tQt5mS"
      },
      "execution_count": null,
      "outputs": []
    },
    {
      "cell_type": "code",
      "source": [
        "def sigmav(w, sigma1, sigma2, cc):\n",
        "    sigmav=w**2*sigma1**2+(1-w)**2*sigma2**2+2*w*(1-w)*sigma1*sigma2*cc\n",
        "    return sigmav"
      ],
      "metadata": {
        "id": "k6GkwrI-uiuj"
      },
      "execution_count": null,
      "outputs": []
    },
    {
      "cell_type": "code",
      "source": [
        "mu_v=muv(0.5, icici_er, sbi_er)\n",
        "sigma_v=sigmav(0.5, icici_var, sbi_var, cc[0][1])\n",
        "print(mu_v)\n",
        "print(sigma_v)\n",
        "print(sigma_v**0.5)"
      ],
      "metadata": {
        "colab": {
          "base_uri": "https://localhost:8080/"
        },
        "id": "DbzBccQptzrL",
        "outputId": "824947f6-02cb-4549-ddb7-abee46d493c3"
      },
      "execution_count": null,
      "outputs": [
        {
          "output_type": "stream",
          "name": "stdout",
          "text": [
            "0.12935848689851098\n",
            "0.0033126184065669483\n",
            "0.057555350807435346\n"
          ]
        }
      ]
    },
    {
      "cell_type": "code",
      "source": [
        "# notes\n",
        "icici_sigma=icici_var**(1/2)\n",
        "sbi_sigma=sbi_var**(1/2)\n",
        "sigma_v=sigmav(0.5, icici_sigma, sbi_sigma, cc[0][1])\n",
        "print(mu_v)\n",
        "print(sigma_v)\n",
        "print(sigma_v**0.5)"
      ],
      "metadata": {
        "colab": {
          "base_uri": "https://localhost:8080/"
        },
        "id": "2Bw_GDO_y2HZ",
        "outputId": "007a7f91-74a7-4700-ed86-d25ae000b70e"
      },
      "execution_count": null,
      "outputs": [
        {
          "output_type": "stream",
          "name": "stdout",
          "text": [
            "0.12935848689851098\n",
            "0.05297188386974672\n",
            "0.23015621623094765\n"
          ]
        }
      ]
    },
    {
      "cell_type": "markdown",
      "source": [
        "Minimum Variance Portfolio"
      ],
      "metadata": {
        "id": "yhNuyVyu0FHO"
      }
    },
    {
      "cell_type": "code",
      "source": [
        "def calculate_w_mvp(sigma1, sigma2, rho12):\n",
        "    num=sigma2**2-rho12*sigma1*sigma2\n",
        "    den=sigma1**2+sigma2**2-2*rho12*sigma1*sigma2\n",
        "    return (num/den)"
      ],
      "metadata": {
        "id": "LeFWyVYcvrZn"
      },
      "execution_count": null,
      "outputs": []
    },
    {
      "cell_type": "code",
      "source": [
        "w=calculate_w_mvp(icici_var, sbi_var, cc[0][1])\n",
        "print(w)\n",
        "expected_return=muv(w, icici_er, sbi_er)\n",
        "print(expected_return)\n",
        "minimum_risk=sigmav(w, icici_var, sbi_var, cc[0][1])\n",
        "print(minimum_risk)"
      ],
      "metadata": {
        "colab": {
          "base_uri": "https://localhost:8080/"
        },
        "id": "2cJUGkrI1hbv",
        "outputId": "c79770a8-c613-4310-abbf-760304319be8"
      },
      "execution_count": null,
      "outputs": [
        {
          "output_type": "stream",
          "name": "stdout",
          "text": [
            "0.9321587436603519\n",
            "0.14498285041668743\n",
            "0.0028526051192560185\n"
          ]
        }
      ]
    },
    {
      "cell_type": "code",
      "source": [
        "# notes\n",
        "w=calculate_w_mvp(icici_sigma, sbi_sigma, cc[0][1])\n",
        "print(w)\n",
        "expected_return=muv(w, icici_er, sbi_er)\n",
        "print(expected_return)\n",
        "minimum_risk=sigmav(w, icici_sigma, sbi_sigma, cc[0][1])\n",
        "print(minimum_risk)"
      ],
      "metadata": {
        "colab": {
          "base_uri": "https://localhost:8080/"
        },
        "id": "yE5qyJTe3Qlo",
        "outputId": "602eeeda-c41b-4613-888a-4ecbc35f677f"
      },
      "execution_count": null,
      "outputs": [
        {
          "output_type": "stream",
          "name": "stdout",
          "text": [
            "0.735083444480949\n",
            "0.1378577461349784\n",
            "0.050956713500010825\n"
          ]
        }
      ]
    },
    {
      "cell_type": "markdown",
      "source": [
        "Given muv=8.8, minimize sigmav^2, subject to muv=0.088 and w1+w2=1."
      ],
      "metadata": {
        "id": "tXfUYvPC7Uue"
      }
    },
    {
      "cell_type": "code",
      "source": [],
      "metadata": {
        "id": "ERWkmP4m4UTs"
      },
      "execution_count": null,
      "outputs": []
    },
    {
      "cell_type": "code",
      "source": [],
      "metadata": {
        "id": "Q3fvmSEk6hHq"
      },
      "execution_count": null,
      "outputs": []
    }
  ]
}