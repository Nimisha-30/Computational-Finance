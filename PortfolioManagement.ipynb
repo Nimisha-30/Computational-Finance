{
  "nbformat": 4,
  "nbformat_minor": 0,
  "metadata": {
    "colab": {
      "provenance": []
    },
    "kernelspec": {
      "name": "python3",
      "display_name": "Python 3"
    },
    "language_info": {
      "name": "python"
    }
  },
  "cells": [
    {
      "cell_type": "code",
      "source": [
        "import numpy as np\n",
        "from scipy.optimize import minimize\n",
        "\n",
        "expected_returns = np.array([0.05, 0.1, 0.01])\n",
        "covariance_matrix = np.array([[0.01, 0.004, 0.002],\n",
        "                              [0.004, 0.03, 0.01],\n",
        "                              [0.002, 0.01, 0.01]])"
      ],
      "metadata": {
        "id": "5FLqR1uzu2ce"
      },
      "execution_count": null,
      "outputs": []
    },
    {
      "cell_type": "code",
      "execution_count": null,
      "metadata": {
        "colab": {
          "base_uri": "https://localhost:8080/"
        },
        "id": "b1VPbPjNqbxM",
        "outputId": "4c6f3513-2aaa-4854-b6fc-79466fb5a4bb"
      },
      "outputs": [
        {
          "output_type": "stream",
          "name": "stdout",
          "text": [
            "Optimal Weights:  [ 0.68928475  0.35070035 -0.03998509]\n",
            "Optimal Expected Return: 0.0691344209395542\n",
            "Portfolio Variance: 0.010000003682898705\n"
          ]
        }
      ],
      "source": [
        "def objective_function(weights, expected_returns):\n",
        "    return -np.dot(weights, expected_returns)\n",
        "\n",
        "def constraint1(weights):\n",
        "    return np.sum(weights) - 1.0\n",
        "\n",
        "def constraint2(weights, covariance_matrix, target_variance):\n",
        "    return np.dot(weights, np.dot(covariance_matrix, weights)) - target_variance\n",
        "\n",
        "target_variance = 0.01\n",
        "\n",
        "initial_weights = np.ones(len(expected_returns)) / len(expected_returns)\n",
        "\n",
        "constraints = ({'type': 'eq', 'fun': constraint1},\n",
        "               {'type': 'eq', 'fun': lambda w: constraint2(w, covariance_matrix, target_variance)})\n",
        "\n",
        "result = minimize(objective_function, initial_weights, args=(expected_returns,), method='SLSQP', constraints=constraints)\n",
        "\n",
        "optimal_weights = result.x\n",
        "\n",
        "print(\"Optimal Weights: \", optimal_weights)\n",
        "print(\"Optimal Expected Return:\", -result.fun)\n",
        "print(\"Portfolio Variance:\", np.dot(optimal_weights, np.dot(covariance_matrix, optimal_weights)))\n"
      ]
    },
    {
      "cell_type": "code",
      "source": [
        "def objective_function(weights, covariance_matrix):\n",
        "    return np.dot(weights, np.dot(covariance_matrix, weights))\n",
        "\n",
        "def constraint1(weights, expected_returns, target_return):\n",
        "    return np.dot(weights, expected_returns) - target_return\n",
        "\n",
        "def constraint2(weights):\n",
        "    return np.sum(weights) - 1.0\n",
        "\n",
        "target_return = 0.06\n",
        "\n",
        "initial_weights = np.ones(len(expected_returns)) / len(expected_returns)\n",
        "\n",
        "constraints = ({'type': 'eq', 'fun': lambda w: constraint1(w, expected_returns, target_return)},\n",
        "               {'type': 'eq', 'fun': constraint2})\n",
        "\n",
        "result = minimize(objective_function, initial_weights, args=(covariance_matrix,), method='SLSQP', constraints=constraints)\n",
        "\n",
        "optimal_weights = result.x\n",
        "\n",
        "print(\"Optimal Weights:\", optimal_weights)\n",
        "print(\"Portfolio Variance:\", result.fun)\n",
        "print(\"Portfolio Expected Return:\", np.dot(optimal_weights, expected_returns))"
      ],
      "metadata": {
        "colab": {
          "base_uri": "https://localhost:8080/"
        },
        "id": "8Z8HKXG6unBV",
        "outputId": "5f513515-a4b6-43fb-cf3f-a273b4133fca"
      },
      "execution_count": null,
      "outputs": [
        {
          "output_type": "stream",
          "name": "stdout",
          "text": [
            "Optimal Weights: [0.65081522 0.26630435 0.08288043]\n",
            "Portfolio Variance: 0.008475543475827912\n",
            "Portfolio Expected Return: 0.05999999998348103\n"
          ]
        }
      ]
    }
  ]
}
